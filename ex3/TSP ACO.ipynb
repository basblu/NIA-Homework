{
 "cells": [
  {
   "cell_type": "code",
   "execution_count": 3,
   "metadata": {},
   "outputs": [
    {
     "name": "stdout",
     "output_type": "stream",
     "text": [
      "<class 'Taskinitializer.Taskinitializer'>\n"
     ]
    },
    {
     "ename": "AttributeError",
     "evalue": "module 'Taskinitializer' has no attribute 'get_task_matrix'",
     "output_type": "error",
     "traceback": [
      "\u001b[1;31m---------------------------------------------------------------------------\u001b[0m",
      "\u001b[1;31mAttributeError\u001b[0m                            Traceback (most recent call last)",
      "\u001b[1;32m<ipython-input-3-6a3d1dfa96bb>\u001b[0m in \u001b[0;36m<module>\u001b[1;34m()\u001b[0m\n\u001b[0;32m     52\u001b[0m \u001b[0mt\u001b[0m\u001b[1;33m=\u001b[0m\u001b[0mTaskinitializer\u001b[0m\u001b[1;33m(\u001b[0m\u001b[1;36m1\u001b[0m\u001b[1;33m)\u001b[0m\u001b[1;33m\u001b[0m\u001b[0m\n\u001b[0;32m     53\u001b[0m \u001b[0mprint\u001b[0m\u001b[1;33m(\u001b[0m\u001b[0mTaskinitializer\u001b[0m\u001b[1;33m)\u001b[0m\u001b[1;33m\u001b[0m\u001b[0m\n\u001b[1;32m---> 54\u001b[1;33m \u001b[0mg\u001b[0m\u001b[1;33m=\u001b[0m\u001b[0mACO\u001b[0m\u001b[1;33m(\u001b[0m\u001b[0mTaskinitializer\u001b[0m\u001b[1;33m(\u001b[0m\u001b[1;36m1\u001b[0m\u001b[1;33m)\u001b[0m\u001b[1;33m,\u001b[0m\u001b[0mInitializer\u001b[0m\u001b[1;33m(\u001b[0m\u001b[1;33m)\u001b[0m\u001b[1;33m,\u001b[0m\u001b[0mSolutionGenerator\u001b[0m\u001b[1;33m(\u001b[0m\u001b[1;36m1\u001b[0m\u001b[1;33m,\u001b[0m\u001b[1;36m1\u001b[0m\u001b[1;33m,\u001b[0m\u001b[1;36m100\u001b[0m\u001b[1;33m)\u001b[0m\u001b[1;33m,\u001b[0m\u001b[0mEvaporator\u001b[0m\u001b[1;33m(\u001b[0m\u001b[1;36m0.1\u001b[0m\u001b[1;33m)\u001b[0m\u001b[1;33m,\u001b[0m\u001b[0mIntensificator\u001b[0m\u001b[1;33m(\u001b[0m\u001b[1;36m0.1\u001b[0m\u001b[1;33m)\u001b[0m\u001b[1;33m)\u001b[0m\u001b[1;33m\u001b[0m\u001b[0m\n\u001b[0m\u001b[0;32m     55\u001b[0m \u001b[0mg\u001b[0m\u001b[1;33m.\u001b[0m\u001b[0mdo\u001b[0m\u001b[1;33m(\u001b[0m\u001b[1;33m)\u001b[0m\u001b[1;33m\u001b[0m\u001b[0m\n\u001b[0;32m     56\u001b[0m \u001b[1;33m\u001b[0m\u001b[0m\n",
      "\u001b[1;32m~\\OneDrive\\Documents\\Nature Inspired\\NIA-Homework-master\\NIA-Homework-master\\ex3\\SolutionGenerator.py\u001b[0m in \u001b[0;36m__init__\u001b[1;34m(self, alpha, beta, num_of_ants, task)\u001b[0m\n\u001b[0;32m      9\u001b[0m         \u001b[0mself\u001b[0m\u001b[1;33m.\u001b[0m\u001b[0malpha\u001b[0m \u001b[1;33m=\u001b[0m \u001b[0malpha\u001b[0m\u001b[1;33m\u001b[0m\u001b[0m\n\u001b[0;32m     10\u001b[0m         \u001b[0mself\u001b[0m\u001b[1;33m.\u001b[0m\u001b[0mbeta\u001b[0m \u001b[1;33m=\u001b[0m \u001b[0mbeta\u001b[0m\u001b[1;33m\u001b[0m\u001b[0m\n\u001b[1;32m---> 11\u001b[1;33m         \u001b[0mself\u001b[0m\u001b[1;33m.\u001b[0m\u001b[0mtask_matrix\u001b[0m \u001b[1;33m=\u001b[0m \u001b[0mtask\u001b[0m\u001b[1;33m.\u001b[0m\u001b[0mget_task_matrix\u001b[0m\u001b[1;33m\u001b[0m\u001b[0m\n\u001b[0m\u001b[0;32m     12\u001b[0m \u001b[1;33m\u001b[0m\u001b[0m\n\u001b[0;32m     13\u001b[0m \u001b[1;33m\u001b[0m\u001b[0m\n",
      "\u001b[1;31mAttributeError\u001b[0m: module 'Taskinitializer' has no attribute 'get_task_matrix'"
     ]
    }
   ],
   "source": [
    "\n",
    "# coding: utf-8\n",
    "\n",
    "# Ant Coloncy Optimization for Nature-Inspired Algorithms for solving Traveling Salesman Problem\n",
    "#\n",
    "# Create an Object of ACO and name one module for each required component in constructor\n",
    "#  (Taskinitializer, Initializer, Solutiongenerator,Evaporator,Intensificator)\n",
    "# once initialized, run do() for ACO Object\n",
    "# Taskinitializer initializes one of the 3 given tasks\n",
    "\n",
    "import random\n",
    "import numpy as np\n",
    "import matplotlib.pyplot as plt\n",
    "\n",
    "from Initializer import Initializer\n",
    "from Taskinitializer import Taskinitializer\n",
    "from SolutionGenerator import SolutionGenerator\n",
    "from Evaporator import Evaporator\n",
    "from Intensificator import Intensificator\n",
    "\n",
    "class ACO:\n",
    "    def __init__(self,taskinitializer,initializer,solutiongenerator,evaporator,intensificator):\n",
    "\n",
    "        self.taskinitializer=taskinitializer\n",
    "        self.initializer=initializer\n",
    "        self.solutiongenerator=solutiongenerator\n",
    "        self.evaporator=evaporator\n",
    "        self.intensificator=intensificator\n",
    "\n",
    "        self.initializer.initialize(self.taskinitializer)\n",
    "\n",
    "    def do(self):\n",
    "        global Max_Iterations\n",
    "\n",
    "        #pheromone matrix\n",
    "        #pmatrix = self.initializer.do() #maybe different return variable\n",
    "\n",
    "        iteration_best = list()\n",
    "        #iteration_best.append()\n",
    "\n",
    "        for iteration in range(Max_Iterations):\n",
    "            pass\n",
    "            #iteration_best.append()\n",
    "\n",
    "        plt.plot(iteration_best)\n",
    "        plt.ylabel('')\n",
    "        plt.xlabel('Iteration')\n",
    "        plt.show()\n",
    "\n",
    "\n",
    "Max_Iterations = 100\n",
    "t=Taskinitializer(1)\n",
    "print(Taskinitializer)\n",
    "g=ACO(Taskinitializer(1),Initializer(),SolutionGenerator(1,1,100),Evaporator(0.1),Intensificator(0.1))\n",
    "g.do()\n",
    "\n"
   ]
  },
  {
   "cell_type": "code",
   "execution_count": null,
   "metadata": {
    "collapsed": true
   },
   "outputs": [],
   "source": []
  }
 ],
 "metadata": {
  "kernelspec": {
   "display_name": "Python 3",
   "language": "python",
   "name": "python3"
  }
 },
 "nbformat": 4,
 "nbformat_minor": 2
}
